{
 "cells": [
  {
   "cell_type": "code",
   "execution_count": 8,
   "id": "068143e2",
   "metadata": {},
   "outputs": [
    {
     "name": "stdout",
     "output_type": "stream",
     "text": [
      "Atmosfear\n"
     ]
    }
   ],
   "source": [
    "#Question 1: What is the most popular attraction to visit in the park?\n",
    "import sqlite3\n",
    "from datetime import timedelta\n",
    "import operator\n",
    "\n",
    "db_filename = 'dinofunworld.db'\n",
    "conn = sqlite3. connect(db_filename) \n",
    "cursor = conn.cursor()\n",
    "\n",
    "cursor.execute(\"SELECT name FROM checkin, attraction WHERE checkin.attraction = attraction.attractionid GROUP BY name ORDER BY count(*) DESC limit 1\")\n",
    "print(cursor.fetchone()[0])"
   ]
  },
  {
   "cell_type": "code",
   "execution_count": 10,
   "id": "fd107811",
   "metadata": {},
   "outputs": [
    {
     "name": "stdout",
     "output_type": "stream",
     "text": [
      "Flight of the Swingodon\n"
     ]
    }
   ],
   "source": [
    "# Question 2: What ride (note that not all attractions are rides) has the longest average visit time?\n",
    "cursor.execute(\"SELECT attractionid from attraction WHERE LOWER(category) like LOWER('%ride%')\")\n",
    "\n",
    "duration_dict = {}\n",
    "for i in cursor.fetchall():\n",
    "    ride_id = i[0]\n",
    "    cursor.execute(\"SELECT duration FROM checkin WHERE attraction=\" + str(ride_id))\n",
    "    \n",
    "    ride_duration = 0    \n",
    "    for j in cursor.fetchall():\n",
    "        count = 0\n",
    "        try:\n",
    "            ride_duration += timedelta(int(j[0].split(':')[0]), int(j[0].split(':')[1]), int(j[0].split(':')[2])).total_seconds()\n",
    "            count += 1\n",
    "        except (ValueError, AttributeError) as e:\n",
    "            pass\n",
    "    duration_dict[ride_id] = ride_duration\n",
    "\n",
    "attraction_id = max(duration_dict.items(), key=operator.itemgetter(1))[0]\n",
    "cursor.execute(\"SELECT Name FROM attraction WHERE AttractionID=\" + str(attraction_id))\n",
    "print(cursor.fetchone()[0])"
   ]
  },
  {
   "cell_type": "code",
   "execution_count": 11,
   "id": "9216a939",
   "metadata": {},
   "outputs": [
    {
     "name": "stdout",
     "output_type": "stream",
     "text": [
      "Theresaur Food Stop\n"
     ]
    }
   ],
   "source": [
    "# Question 3: Which Fast Food offering in the park has the fewest visitors?\n",
    "cursor.execute(\"SELECT name FROM attraction, checkin WHERE attraction.attractionid = checkin.attraction and attraction.type='Fast Food' GROUP BY name order by count(*) asc limit 1\")\n",
    "print(cursor.fetchone()[0])"
   ]
  },
  {
   "cell_type": "code",
   "execution_count": 12,
   "id": "0e1115e2",
   "metadata": {},
   "outputs": [
    {
     "name": "stdout",
     "output_type": "stream",
     "text": [
      "['Wrightiraptor Mountain', 'Atmosfear', 'Dykesadactyl Thrill']\n"
     ]
    }
   ],
   "source": [
    "# Question 4: Compute the Skyline of number of visits and visit time for the park's ride and report the rides that appear in the Skyline. \n",
    "\n",
    "cursor.execute(\"SELECT attractionid from attraction WHERE LOWER(category) like LOWER('%ride%')\")\n",
    "\n",
    "ride_dict = {}\n",
    "for i in cursor.fetchall():\n",
    "    ride_id = i[0]\n",
    "    cursor.execute(\"SELECT duration FROM checkin WHERE attraction=\" + str(ride_id))\n",
    "    \n",
    "    ride_duration = 0    \n",
    "    for j in cursor.fetchall():\n",
    "        count = 0\n",
    "        try:\n",
    "            ride_duration += timedelta(int(j[0].split(':')[0]), int(j[0].split(':')[1]), int(j[0].split(':')[2])).total_seconds()\n",
    "            count += 1\n",
    "        except (ValueError, AttributeError) as e:\n",
    "            pass\n",
    "    ride_dict[ride_id] = [ride_duration]\n",
    "    \n",
    "    cursor.execute(\"SELECT count(*) FROM checkin WHERE attraction=\" + str(ride_id))\n",
    "    checkin_count = cursor.fetchone()[0]\n",
    "    ride_dict[ride_id].append(checkin_count)\n",
    "    \n",
    "visit_ride = list(ride_dict.keys())[0]\n",
    "wait_ride = visit_ride\n",
    "both_ride = visit_ride\n",
    "for ride in ride_dict:\n",
    "    if ride_dict[ride][0] < ride_dict[wait_ride][0]:\n",
    "        wait_ride = ride\n",
    "    if ride_dict[ride][1] > ride_dict[visit_ride][1]:\n",
    "        visit_ride = ride\n",
    "    if (ride_dict[ride][0] < ride_dict[both_ride][0]) and (ride_dict[ride][1] > ride_dict[both_ride][1]):\n",
    "        both_ride = ride\n",
    "        \n",
    "cursor.execute(\"SELECT name FROM attraction WHERE attractionid in (\" + str(visit_ride) + \",\" + str(wait_ride) + \",\" + str(both_ride) + \")\")\n",
    "res = cursor.fetchall()\n",
    "print([item[0] for item in res])"
   ]
  },
  {
   "cell_type": "code",
   "execution_count": null,
   "id": "83be1cd8",
   "metadata": {},
   "outputs": [],
   "source": []
  }
 ],
 "metadata": {
  "kernelspec": {
   "display_name": "Python 3 (ipykernel)",
   "language": "python",
   "name": "python3"
  },
  "language_info": {
   "codemirror_mode": {
    "name": "ipython",
    "version": 3
   },
   "file_extension": ".py",
   "mimetype": "text/x-python",
   "name": "python",
   "nbconvert_exporter": "python",
   "pygments_lexer": "ipython3",
   "version": "3.11.5"
  }
 },
 "nbformat": 4,
 "nbformat_minor": 5
}
